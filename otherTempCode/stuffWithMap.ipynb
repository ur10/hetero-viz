{
 "cells": [
  {
   "cell_type": "code",
   "execution_count": 10,
   "metadata": {},
   "outputs": [],
   "source": [
    "import matplotlib.pyplot as plt\n",
    "import numpy as np\n",
    "import yaml\n",
    "import skimage.measure\n",
    "from PIL import Image\n",
    "from PIL import Image, ImageOps \n",
    "from usefulFunctions import *\n"
   ]
  },
  {
   "cell_type": "code",
   "execution_count": 2,
   "metadata": {},
   "outputs": [],
   "source": [
    "MAP = \"house_map\""
   ]
  },
  {
   "cell_type": "code",
   "execution_count": 3,
   "metadata": {},
   "outputs": [
    {
     "data": {
      "text/plain": [
       "({'image': 'house_map.pgm',\n",
       "  'resolution': 0.05,\n",
       "  'origin': [-54.224998, -50.224998, 0.0],\n",
       "  'negate': 0,\n",
       "  'occupied_thresh': 0.65,\n",
       "  'free_thresh': 0.196},\n",
       " (2048, 2048))"
      ]
     },
     "execution_count": 3,
     "metadata": {},
     "output_type": "execute_result"
    }
   ],
   "source": [
    "with open(\"../map/\"+MAP+\".yaml\", 'r') as f:\n",
    "    data = yaml.safe_load(f)\n",
    "img = plt.imread(fname=\"../map/\"+MAP+\".pgm\")\n",
    "img = np.array(img)\n",
    "data, img.shape"
   ]
  },
  {
   "cell_type": "code",
   "execution_count": 4,
   "metadata": {},
   "outputs": [
    {
     "data": {
      "text/plain": [
       "((2048, 2048), (256, 256))"
      ]
     },
     "execution_count": 4,
     "metadata": {},
     "output_type": "execute_result"
    }
   ],
   "source": [
    "kernelSize = 8\n",
    "temp = skimage.measure.block_reduce(img, (kernelSize,kernelSize), np.min)\n",
    "img.shape, temp.shape"
   ]
  },
  {
   "cell_type": "code",
   "execution_count": 5,
   "metadata": {},
   "outputs": [
    {
     "data": {
      "image/png": "[encoded data removed]",
      "text/plain": [
       "<Figure size 432x288 with 1 Axes>"
      ]
     },
     "metadata": {
      "needs_background": "light"
     },
     "output_type": "display_data"
    },
    {
     "data": {
      "image/png": "[encoded data removed]",
      "text/plain": [
       "<Figure size 432x288 with 1 Axes>"
      ]
     },
     "metadata": {
      "needs_background": "light"
     },
     "output_type": "display_data"
    }
   ],
   "source": [
    "plt.imshow(temp[int(930/kernelSize):int(1150/kernelSize)+1, int(920/kernelSize):int(1250/kernelSize)+1])\n",
    "plt.show()\n",
    "\n",
    "asd = np.copy(img)\n",
    "# asd[111,117] = 0\n",
    "plt.imshow(asd[930:1150, 920: 1250])\n",
    "plt.show()"
   ]
  },
  {
   "cell_type": "code",
   "execution_count": 11,
   "metadata": {},
   "outputs": [
    {
     "data": {
      "text/plain": [
       "array([-8.25,  5.65])"
      ]
     },
     "execution_count": 11,
     "metadata": {},
     "output_type": "execute_result"
    }
   ],
   "source": [
    "getCoordinatesFromCell((930,920), img, data)"
   ]
  },
  {
   "cell_type": "code",
   "execution_count": 1,
   "metadata": {},
   "outputs": [
    {
     "data": {
      "text/plain": [
       "(-3.1499999999999995, 2.8000000000000003)"
      ]
     },
     "execution_count": 1,
     "metadata": {},
     "output_type": "execute_result"
    }
   ],
   "source": [
    "-8+12*0.4+0.05, 5.65-7*0.4-0.05"
   ]
  },
  {
   "cell_type": "code",
   "execution_count": 6,
   "metadata": {},
   "outputs": [],
   "source": [
    "# plt.imsave(\"temp.png\",temp[int(930/kernelSize):int(1150/kernelSize)+1, int(920/kernelSize):int(1250/kernelSize)+1])"
   ]
  },
  {
   "cell_type": "code",
   "execution_count": 7,
   "metadata": {},
   "outputs": [],
   "source": [
    "# img.shape, plt.imshow(img[100:125, 117:150])\n"
   ]
  },
  {
   "cell_type": "code",
   "execution_count": 8,
   "metadata": {},
   "outputs": [],
   "source": [
    "\n",
    "def rgb2gray(rgb):\n",
    "    return np.dot(rgb[...,:3], [0.2989, 0.5870, 0.1140])\n",
    "\n",
    "     \n",
    "\n",
    "\n",
    "map = plt.imread(\"temp.png\")\n",
    "temp = np.copy(map)\n",
    "temp = rgb2gray(temp)    \n",
    "\n",
    "temp[temp>0.75] = -1\n",
    "temp[temp>0] = 0\n",
    "temp = temp+1\n",
    "temp = -1*temp\n",
    "# np.unique(temp)\n",
    "# print(temp[2])\n",
    "# gray[0]\n",
    "# temp[0]\n",
    "# plt.imshow(temp)\n",
    "# plt.imsave('temp.png', temp)\n",
    "# np.save('temp', temp)"
   ]
  },
  {
   "cell_type": "code",
   "execution_count": 9,
   "metadata": {},
   "outputs": [
    {
     "data": {
      "text/plain": [
       "array([[-1., -1., -1., ..., -1., -1., -1.],\n",
       "       [-1., -1., -1., ..., -1., -1., -1.],\n",
       "       [-1., -1., -0., ..., -1., -1., -1.],\n",
       "       ...,\n",
       "       [-1., -1., -1., ..., -1., -1., -1.],\n",
       "       [-1., -1., -1., ..., -1., -1., -1.],\n",
       "       [-1., -1., -1., ..., -1., -1., -1.]])"
      ]
     },
     "execution_count": 9,
     "metadata": {},
     "output_type": "execute_result"
    }
   ],
   "source": [
    "np.load('temp.npy')"
   ]
  }
 ],
 "metadata": {
  "kernelspec": {
   "display_name": "td_env",
   "language": "python",
   "name": "python3"
  },
  "language_info": {
   "codemirror_mode": {
    "name": "ipython",
    "version": 3
   },
   "file_extension": ".py",
   "mimetype": "text/x-python",
   "name": "python",
   "nbconvert_exporter": "python",
   "pygments_lexer": "ipython3",
   "version": "3.11.5"
  },
  "orig_nbformat": 4,
  "vscode": {
   "interpreter": {
    "hash": "c472e4a50cbfead08a19b7eb7aa3ab960519be78b00747269687f22c4880ec6c"
   }
  }
 },
 "nbformat": 4,
 "nbformat_minor": 2
}
