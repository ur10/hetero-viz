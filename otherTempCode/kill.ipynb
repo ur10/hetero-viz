{
 "cells": [
  {
   "cell_type": "code",
   "execution_count": 1,
   "metadata": {},
   "outputs": [],
   "source": [
    "import psutil"
   ]
  },
  {
   "cell_type": "code",
   "execution_count": 2,
   "metadata": {},
   "outputs": [],
   "source": [
    "# psutil.test()"
   ]
  },
  {
   "cell_type": "code",
   "execution_count": 3,
   "metadata": {},
   "outputs": [],
   "source": [
    "for proc in psutil.process_iter():\n",
    "    # print(proc.cmdline(), '/home/marmot/catkin_ws/src/Tanishq_MAPF/scripts/graphController.py' in proc.cmdline())\n",
    "    if proc.name() == \"static_transform_publisher\" or proc.name() == \"robot_state_publisher\" or ('/home/mapf/td_ws/src/Tanishq_MAPF/scripts/graphController.py' in proc.cmdline()) or ('/home/mapf/td_ws/src/Tanishq_MAPF/scripts/spoofGoalTransform.py' in proc.cmdline()):\n",
    "    # if proc.name() == \"static_transform_publisher\" or proc.name() == \"robot_state_publisher\" or ('/home/marmot/catkin_ws/src/Tanishq_MAPF/scripts/graphController.py' in proc.cmdline()):\n",
    "        print(proc.name())\n",
    "        proc.terminate()\n",
    "    # else:\n",
    "    #     print(proc)"
   ]
  },
  {
   "cell_type": "code",
   "execution_count": 4,
   "metadata": {},
   "outputs": [],
   "source": [
    "# for proc in psutil.process_iter(['pid', 'name']):\n",
    "#     print(proc.info)"
   ]
  }
 ],
 "metadata": {
  "kernelspec": {
   "display_name": "Python 3",
   "language": "python",
   "name": "python3"
  },
  "language_info": {
   "codemirror_mode": {
    "name": "ipython",
    "version": 3
   },
   "file_extension": ".py",
   "mimetype": "text/x-python",
   "name": "python",
   "nbconvert_exporter": "python",
   "pygments_lexer": "ipython3",
   "version": "3.11.5"
  }
 },
 "nbformat": 4,
 "nbformat_minor": 2
}
