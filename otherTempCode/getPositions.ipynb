{
 "cells": [
  {
   "cell_type": "code",
   "execution_count": 1,
   "metadata": {},
   "outputs": [],
   "source": [
    "import numpy as np\n",
    "import matplotlib.pyplot as plt\n",
    "from usefulFunctions import getCoordinatesFromCell, transformCell\n",
    "import yaml"
   ]
  },
  {
   "cell_type": "code",
   "execution_count": null,
   "metadata": {},
   "outputs": [],
   "source": []
  },
  {
   "cell_type": "code",
   "execution_count": 2,
   "metadata": {},
   "outputs": [
    {
     "data": {
      "text/plain": [
       "array([14.125, 20.625])"
      ]
     },
     "execution_count": 2,
     "metadata": {},
     "output_type": "execute_result"
    }
   ],
   "source": [
    "np.array((1043-930, 1085-920))/8"
   ]
  },
  {
   "cell_type": "code",
   "execution_count": 3,
   "metadata": {},
   "outputs": [
    {
     "data": {
      "image/png": "[encoded data removed]",
      "text/plain": [
       "<Figure size 432x288 with 1 Axes>"
      ]
     },
     "metadata": {
      "needs_background": "light"
     },
     "output_type": "display_data"
    },
    {
     "data": {
      "text/plain": [
       "(28, 42)"
      ]
     },
     "execution_count": 3,
     "metadata": {},
     "output_type": "execute_result"
    }
   ],
   "source": [
    "world = np.load('temp.npy')\n",
    "plt.imshow(world)\n",
    "plt.show()\n",
    "world.shape"
   ]
  },
  {
   "cell_type": "code",
   "execution_count": 4,
   "metadata": {},
   "outputs": [],
   "source": [
    "start=[(7, 12), (4, 34), (13, 6), (10, 23), (12, 30), (4, 28), (25, 34), (10, 21)]\n",
    "goals = [(11, 29), (10, 37), (6, 16), (9, 34), (10, 14), (14, 2), (14, 35), (15, 4)]"
   ]
  },
  {
   "cell_type": "code",
   "execution_count": 17,
   "metadata": {},
   "outputs": [
    {
     "data": {
      "text/plain": [
       "-3.200000000000003"
      ]
     },
     "execution_count": 17,
     "metadata": {},
     "output_type": "execute_result"
    }
   ],
   "source": [
    "MAP = 'house_map'\n",
    "with open(\"../map/\"+MAP+\".yaml\", 'r') as f:\n",
    "    data = yaml.safe_load(f)\n",
    "img = plt.imread(fname=\"../map/\"+MAP+\".pgm\")\n",
    "img = np.array(img)\n",
    "data['origin']\n",
    "920*0.05+start[0][1]*0.4+int(data['origin'][0]), 930*0.05\n",
    "# for i in range(len(start)):\n",
    "#     print([start[1]*0.4+data['center'][0], 56-start[0]*0.4+(+data['center'][1])-0.4])\n",
    "#     print(getCoordinatesFromCell(transformCell(start[i]), img, data), getCoordinatesFromCell(transformCell(goals[i]), img, data))"
   ]
  },
  {
   "cell_type": "code",
   "execution_count": null,
   "metadata": {},
   "outputs": [
    {
     "data": {
      "text/plain": [
       "<matplotlib.image.AxesImage at 0x7ff64553b668>"
      ]
     },
     "execution_count": 6,
     "metadata": {},
     "output_type": "execute_result"
    },
    {
     "data": {
      "image/png": "[encoded data removed]",
      "text/plain": [
       "<Figure size 432x288 with 1 Axes>"
      ]
     },
     "metadata": {
      "needs_background": "light"
     },
     "output_type": "display_data"
    }
   ],
   "source": [
    "temp = np.copy(world)\n",
    "# j = 0\n",
    "# for i in goals:\n",
    "#     temp[i] = j+1\n",
    "#     j+=1\n",
    "# temp[8,13] = 1\n",
    "temp[7,12] = 1\n",
    "plt.imshow(temp)\n",
    "# 1:(0,1) 2:(1,0) 3:(0,-1) 4:(-1,0)"
   ]
  },
  {
   "cell_type": "code",
   "execution_count": null,
   "metadata": {},
   "outputs": [
    {
     "data": {
      "text/plain": [
       "array([[1, 1, 3, 1, 3, 2, 4, 4],\n",
       "       [1, 2, 3, 4, 3, 2, 4, 4],\n",
       "       [1, 2, 4, 1, 2, 2, 4, 4],\n",
       "       [1, 2, 4, 4, 3, 2, 4, 4],\n",
       "       [1, 2, 4, 4, 3, 2, 4, 4],\n",
       "       [1, 2, 1, 4, 3, 2, 4, 4],\n",
       "       [1, 1, 4, 4, 3, 2, 4, 4],\n",
       "       [2, 1, 1, 4, 3, 2, 4, 4],\n",
       "       [2, 2, 4, 4, 3, 2, 4, 1],\n",
       "       [2, 0, 1, 4, 3, 3, 1, 1],\n",
       "       [2, 0, 1, 1, 3, 3, 4, 0],\n",
       "       [0, 0, 1, 1, 3, 3, 4, 1],\n",
       "       [4, 0, 1, 2, 3, 3, 0, 1],\n",
       "       [0, 0, 1, 2, 3, 3, 0, 1],\n",
       "       [4, 0, 1, 2, 3, 3, 0, 1],\n",
       "       [0, 0, 1, 2, 4, 3, 0, 2],\n",
       "       [4, 0, 1, 2, 4, 3, 0, 2],\n",
       "       [0, 0, 1, 2, 3, 3, 0, 2],\n",
       "       [2, 0, 4, 1, 4, 4, 0, 2],\n",
       "       [2, 0, 1, 1, 3, 4, 0, 2],\n",
       "       [3, 0, 4, 1, 0, 3, 0, 2],\n",
       "       [0, 0, 0, 1, 0, 3, 0, 2],\n",
       "       [1, 0, 0, 1, 0, 3, 0, 2],\n",
       "       [2, 0, 0, 1, 0, 4, 0, 2],\n",
       "       [2, 0, 0, 1, 0, 4, 0, 2],\n",
       "       [2, 0, 0, 2, 0, 3, 0, 2],\n",
       "       [1, 0, 0, 0, 0, 4, 0, 3],\n",
       "       [1, 0, 0, 0, 0, 3, 0, 3],\n",
       "       [1, 0, 0, 0, 0, 3, 0, 3],\n",
       "       [0, 0, 0, 0, 0, 3, 0, 0],\n",
       "       [3, 0, 0, 0, 0, 3, 0, 1],\n",
       "       [0, 0, 0, 0, 0, 3, 0, 1],\n",
       "       [1, 0, 0, 0, 0, 3, 0, 1],\n",
       "       [1, 0, 0, 0, 0, 3, 0, 1],\n",
       "       [1, 0, 0, 0, 0, 3, 0, 4],\n",
       "       [1, 0, 0, 0, 0, 3, 0, 1],\n",
       "       [1, 0, 0, 0, 0, 3, 0, 2],\n",
       "       [1, 0, 0, 0, 0, 2, 0, 3],\n",
       "       [4, 0, 0, 0, 0, 2, 0, 4],\n",
       "       [4, 0, 0, 0, 0, 3, 0, 1],\n",
       "       [1, 0, 0, 0, 0, 2, 0, 2],\n",
       "       [1, 0, 0, 0, 0, 2, 0, 3],\n",
       "       [0, 0, 0, 0, 0, 2, 0, 3],\n",
       "       [0, 0, 0, 0, 0, 3, 0, 3],\n",
       "       [0, 0, 0, 0, 0, 3, 0, 3],\n",
       "       [0, 0, 0, 0, 0, 2, 0, 3],\n",
       "       [0, 0, 0, 0, 0, 0, 0, 3],\n",
       "       [0, 0, 0, 0, 0, 0, 0, 3],\n",
       "       [0, 0, 0, 0, 0, 0, 0, 3],\n",
       "       [0, 0, 0, 0, 0, 0, 0, 3],\n",
       "       [0, 0, 0, 0, 0, 0, 0, 3],\n",
       "       [0, 0, 0, 0, 0, 0, 0, 4],\n",
       "       [0, 0, 0, 0, 0, 0, 0, 4],\n",
       "       [0, 0, 0, 0, 0, 0, 0, 4],\n",
       "       [0, 0, 0, 0, 0, 0, 0, 4],\n",
       "       [0, 0, 0, 0, 0, 0, 0, 3],\n",
       "       [0, 0, 0, 0, 0, 0, 0, 3],\n",
       "       [0, 0, 0, 0, 0, 0, 0, 3],\n",
       "       [0, 0, 0, 0, 0, 0, 0, 3],\n",
       "       [0, 0, 0, 0, 0, 0, 0, 4],\n",
       "       [0, 0, 0, 0, 0, 0, 0, 3],\n",
       "       [0, 0, 0, 0, 0, 0, 0, 3],\n",
       "       [0, 0, 0, 0, 0, 0, 0, 3],\n",
       "       [0, 0, 0, 0, 0, 0, 0, 3],\n",
       "       [0, 0, 0, 0, 0, 0, 0, 3],\n",
       "       [0, 0, 0, 0, 0, 0, 0, 3],\n",
       "       [0, 0, 0, 0, 0, 0, 0, 3],\n",
       "       [0, 0, 0, 0, 0, 0, 0, 3],\n",
       "       [0, 0, 0, 0, 0, 0, 0, 3],\n",
       "       [0, 0, 0, 0, 0, 0, 0, 3],\n",
       "       [0, 0, 0, 0, 0, 0, 0, 2],\n",
       "       [0, 0, 0, 0, 0, 0, 0, 2],\n",
       "       [0, 0, 0, 0, 0, 0, 0, 3],\n",
       "       [0, 0, 0, 0, 0, 0, 0, 2],\n",
       "       [0, 0, 0, 0, 0, 0, 0, 2],\n",
       "       [0, 0, 0, 0, 0, 0, 0, 2],\n",
       "       [0, 0, 0, 0, 0, 0, 0, 2],\n",
       "       [0, 0, 0, 0, 0, 0, 0, 2]], dtype=int16)"
      ]
     },
     "execution_count": 7,
     "metadata": {},
     "output_type": "execute_result"
    }
   ],
   "source": [
    "actionList= np.loadtxt('actions.txt')\n",
    "actionList = actionList.astype(np.int16)\n",
    "actionList"
   ]
  }
 ],
 "metadata": {
  "kernelspec": {
   "display_name": "td_env",
   "language": "python",
   "name": "python3"
  },
  "language_info": {
   "codemirror_mode": {
    "name": "ipython",
    "version": 3
   },
   "file_extension": ".py",
   "mimetype": "text/x-python",
   "name": "python",
   "nbconvert_exporter": "python",
   "pygments_lexer": "ipython3",
   "version": "3.11.5"
  },
  "orig_nbformat": 4,
  "vscode": {
   "interpreter": {
    "hash": "c472e4a50cbfead08a19b7eb7aa3ab960519be78b00747269687f22c4880ec6c"
   }
  }
 },
 "nbformat": 4,
 "nbformat_minor": 2
}
