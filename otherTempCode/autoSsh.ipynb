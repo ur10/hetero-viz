{
 "cells": [
  {
   "cell_type": "code",
   "execution_count": 1,
   "metadata": {},
   "outputs": [
    {
     "name": "stdout",
     "output_type": "stream",
     "text": [
      "... logging to /home/bingda/.ros/log/44b125f2-0eca-11ef-be4a-ac8247315eb1/roslaunch-robot-9-9154.log\n",
      "Checking log directory for disk usage. This may take a while.\n",
      "Press Ctrl-C to interrupt\n",
      "Done checking log file disk usage. Usage is <1GB.\n",
      "\u001b]2;/home/bingda/catkin_ws/src/base_control/launch/base_startup.launch\u0007\n",
      "\u001b[1mstarted roslaunch server http://192.168.0.104:40889/\u001b[0m\n",
      "\n",
      "SUMMARY\n",
      "========\n",
      "\n",
      "CLEAR PARAMETERS\n",
      " * /Robo9/renderNode/\n",
      "\n",
      "PARAMETERS\n",
      " * /Robo9/base_control/ackermann_cmd_topic: Robo9ackermann_cmd\n",
      " * /Robo9/base_control/base_id: Robo9/base_footprint\n",
      " * /Robo9/base_control/battery_topic: battery\n",
      " * /Robo9/base_control/baudrate: 115200\n",
      " * /Robo9/base_control/cmd_vel_topic: cmd_vel\n",
      " * /Robo9/base_control/imu_id: Robo9/imu\n",
      " * /Robo9/base_control/imu_topic: imu\n",
      " * /Robo9/base_control/odom_id: Robo9/odom\n",
      " * /Robo9/base_control/odom_topic: odom\n",
      " * /Robo9/base_control/port: /dev/move_base\n",
      " * /Robo9/base_control/pub_imu: False\n",
      " * /Robo9/base_control/pub_sonar: False\n",
      " * /Robo9/base_control/sub_ackermann: False\n",
      " * /Robo9/renderNode/num: 9\n",
      " * /rosdistro: melodic\n",
      " * /rosversion: 1.14.10\n",
      "\n",
      "NODES\n",
      "  /Robo9/\n",
      "    base_control (base_control/base_control.py)\n",
      "    renderNode (marmot/render.py)\n",
      "\n"
     ]
    },
    {
     "name": "stderr",
     "output_type": "stream",
     "text": [
      "\u001b[31mRLException: ERROR: unable to contact ROS master at [http://192.168.0.101:11311]\u001b[0m\n",
      "\u001b[31mThe traceback for the exception was written to the log file\u001b[0m\n"
     ]
    },
    {
     "data": {
      "text/plain": [
       "(None, None)"
      ]
     },
     "execution_count": 1,
     "metadata": {},
     "output_type": "execute_result"
    }
   ],
   "source": [
    "import subprocess\n",
    "subprocess.Popen(\"sshpass -p 'bingda' ssh bingda@192.168.0.104 \\\"roslaunch base_control base_startup.launch\\\"\",shell=True).communicate()\n"
   ]
  },
  {
   "cell_type": "code",
   "execution_count": 3,
   "metadata": {},
   "outputs": [
    {
     "name": "stdout",
     "output_type": "stream",
     "text": [
      "ERROR: Unable to communicate with master!\n"
     ]
    }
   ],
   "source": [
    "\n",
    "!sshpass -p 'bingda' ssh bingda@192.168.0.104 \"rosnode kill --all\""
   ]
  }
 ],
 "metadata": {
  "kernelspec": {
   "display_name": "base",
   "language": "python",
   "name": "python3"
  },
  "language_info": {
   "codemirror_mode": {
    "name": "ipython",
    "version": 3
   },
   "file_extension": ".py",
   "mimetype": "text/x-python",
   "name": "python",
   "nbconvert_exporter": "python",
   "pygments_lexer": "ipython3",
   "version": "3.11.5"
  }
 },
 "nbformat": 4,
 "nbformat_minor": 2
}
